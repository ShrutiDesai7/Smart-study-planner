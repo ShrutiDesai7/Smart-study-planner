{
  "nbformat": 4,
  "nbformat_minor": 0,
  "metadata": {
    "colab": {
      "provenance": []
    },
    "kernelspec": {
      "name": "python3",
      "display_name": "Python 3"
    },
    "language_info": {
      "name": "python"
    }
  },
  "cells": [
    {
      "cell_type": "markdown",
      "source": [
        "# Smart Study Planner"
      ],
      "metadata": {
        "id": "eX_d8hvoA4gz"
      }
    },
    {
      "cell_type": "code",
      "execution_count": 1,
      "metadata": {
        "colab": {
          "base_uri": "https://localhost:8080/"
        },
        "id": "YJiSV8pKAVgm",
        "outputId": "f7574431-e6c7-4da5-97d6-ef191afcf054"
      },
      "outputs": [
        {
          "output_type": "stream",
          "name": "stdout",
          "text": [
            "📘 Welcome to the Smart Study Planner!\n",
            "\n",
            "Enter number of subjects: 3\n",
            "\n",
            "Enter subject 1 name: aiml\n",
            "Rate difficulty of aiml (1-5): 3\n",
            "\n",
            "Enter subject 2 name: cn\n",
            "Rate difficulty of cn (1-5): 4\n",
            "\n",
            "Enter subject 3 name: daa\n",
            "Rate difficulty of daa (1-5): 2\n",
            "\n",
            "Enter total study hours available per day: 3\n",
            "Enter exam date (YYYY-MM-DD): 2025-10-20\n",
            "\n",
            "📅 Your Smart Study Plan:\n",
            "Days until exam: 2\n",
            "\n",
            "Subject              Hours/Day       Total Hours    \n",
            "--------------------------------------------------\n",
            "aiml                 1.0             2.0            \n",
            "cn                   1.33            2.66           \n",
            "daa                  0.67            1.34           \n",
            "\n",
            "✅ Tip: Focus more on high-difficulty subjects earlier, and revise easy ones near the exam!\n"
          ]
        }
      ],
      "source": [
        "\n",
        "from datetime import datetime\n",
        "\n",
        "def get_input():\n",
        "    print(\"📘 Welcome to the Smart Study Planner!\\n\")\n",
        "    subjects = []\n",
        "    n = int(input(\"Enter number of subjects: \"))\n",
        "\n",
        "    for i in range(n):\n",
        "        name = input(f\"\\nEnter subject {i+1} name: \")\n",
        "        while True:\n",
        "            try:\n",
        "                difficulty = int(input(f\"Rate difficulty of {name} (1-5): \"))\n",
        "                if 1 <= difficulty <= 5:\n",
        "                    break\n",
        "                else:\n",
        "                    print(\"Please enter a number between 1 and 5.\")\n",
        "            except ValueError:\n",
        "                print(\"Invalid input. Enter a number.\")\n",
        "\n",
        "        subjects.append({\"name\": name, \"difficulty\": difficulty})\n",
        "\n",
        "    total_hours = float(input(\"\\nEnter total study hours available per day: \"))\n",
        "    exam_date_str = input(\"Enter exam date (YYYY-MM-DD): \")\n",
        "\n",
        "    try:\n",
        "        exam_date = datetime.strptime(exam_date_str, \"%Y-%m-%d\")\n",
        "        today = datetime.today()\n",
        "        days_left = (exam_date - today).days\n",
        "        if days_left <= 0:\n",
        "            print(\"⚠️ Exam date should be in the future!\")\n",
        "            exit()\n",
        "    except ValueError:\n",
        "        print(\"Invalid date format! Use YYYY-MM-DD.\")\n",
        "        exit()\n",
        "\n",
        "    return subjects, total_hours, days_left\n",
        "\n",
        "\n",
        "def calculate_plan(subjects, total_hours, days_left):\n",
        "    # Total difficulty sum\n",
        "    total_difficulty = sum(sub[\"difficulty\"] for sub in subjects)\n",
        "\n",
        "    plan = []\n",
        "    for sub in subjects:\n",
        "        # Allocate proportionate hours based on difficulty\n",
        "        weight = sub[\"difficulty\"] / total_difficulty\n",
        "        daily_hours = round(total_hours * weight, 2)\n",
        "        total_subject_hours = round(daily_hours * days_left, 2)\n",
        "        plan.append({\n",
        "            \"name\": sub[\"name\"],\n",
        "            \"daily_hours\": daily_hours,\n",
        "            \"total_hours\": total_subject_hours\n",
        "        })\n",
        "    return plan\n",
        "\n",
        "\n",
        "def display_plan(plan, days_left):\n",
        "    print(\"\\n📅 Your Smart Study Plan:\")\n",
        "    print(f\"Days until exam: {days_left}\\n\")\n",
        "    print(\"{:<20} {:<15} {:<15}\".format(\"Subject\", \"Hours/Day\", \"Total Hours\"))\n",
        "    print(\"-\" * 50)\n",
        "    for sub in plan:\n",
        "        print(\"{:<20} {:<15} {:<15}\".format(sub[\"name\"], sub[\"daily_hours\"], sub[\"total_hours\"]))\n",
        "\n",
        "    print(\"\\n✅ Tip: Focus more on high-difficulty subjects earlier, and revise easy ones near the exam!\")\n",
        "\n",
        "\n",
        "def main():\n",
        "    subjects, total_hours, days_left = get_input()\n",
        "    plan = calculate_plan(subjects, total_hours, days_left)\n",
        "    display_plan(plan, days_left)\n",
        "\n",
        "\n",
        "if __name__ == \"__main__\":\n",
        "    main()\n"
      ]
    }
  ]
}